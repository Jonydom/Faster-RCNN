{
 "cells": [
  {
   "cell_type": "markdown",
   "id": "a2534fe3",
   "metadata": {},
   "source": [
    "# 1）将coco2017数据集进行切分，生成minicoco2017数据集"
   ]
  },
  {
   "cell_type": "code",
   "execution_count": 1,
   "id": "8796ac21",
   "metadata": {},
   "outputs": [],
   "source": [
    "# Fast script for the creation of a sub-set of the coco dataset in the form of a data folder.\n",
    "\n",
    "import json\n",
    "from pycocotools.coco import COCO\n",
    "import wget\n",
    "import numpy as np\n",
    "from random import sample\n",
    "from pathlib import Path\n",
    "from joblib import delayed, Parallel\n",
    "\n",
    "ANNOTATIONS = {\"info\": {\n",
    "    \"description\": \"minicoco2017\"\n",
    "}\n",
    "}\n",
    "\n",
    "def myImages(images: list, train: int, val: int) -> tuple:\n",
    "    myImagesTrain = images[:train]\n",
    "    myImagesVal = images[train:train+val]\n",
    "    return myImagesTrain, myImagesVal\n",
    "\n",
    "\n",
    "def cocoJson(images: list) -> dict:\n",
    "    arrayIds = np.array([k[\"id\"] for k in images])\n",
    "    annIds = coco.getAnnIds(imgIds=arrayIds, catIds=catIds, iscrowd=None)\n",
    "    anns = coco.loadAnns(annIds)\n",
    "    for k in anns:\n",
    "        k[\"category_id\"] = catIds.index(k[\"category_id\"])+1\n",
    "    catS = [{'id': int(value), 'name': key}\n",
    "            for key, value in categories.items()]\n",
    "    ANNOTATIONS[\"images\"] = images\n",
    "    ANNOTATIONS[\"annotations\"] = anns\n",
    "    ANNOTATIONS[\"categories\"] = catS\n",
    "\n",
    "    return ANNOTATIONS\n",
    "\n",
    "\n",
    "def createJson(JsonFile: json, train: bool) -> None:\n",
    "    name = \"train\"\n",
    "    if not train:\n",
    "        name = \"val\"\n",
    "    Path(\"minicoco2017/annotations\").mkdir(parents=True, exist_ok=True)\n",
    "    with open(f\"minicoco2017/annotations/{name}2017.json\", \"w\") as outfile:\n",
    "        json.dump(JsonFile, outfile)\n",
    "\n",
    "\n",
    "def downloadImagesToTrain(img: dict) -> None:\n",
    "    link = (img['coco_url'])\n",
    "    Path(\"minicoco2017/train2017\").mkdir(parents=True, exist_ok=True)\n",
    "    wget.download(link, f\"{'minicoco2017/train2017/' + img['file_name']}\")\n",
    "\n",
    "def downloadImagesToVal(img: dict) -> None:\n",
    "    link = (img['coco_url'])\n",
    "    Path(\"minicoco2017/val2017\").mkdir(parents=True, exist_ok=True)\n",
    "    wget.download(link, f\"{'minicoco2017/val2017/' + img['file_name']}\")\n",
    "\n",
    "# Instantiate COCO specifying the annotations json path; download here: https://cocodataset.org/#download\n",
    "coco = COCO('./coco2017/annotations/instances_train2017.json')\n",
    "\n",
    "# Specify a list of category names of interest\n",
    "catNms = ['car', 'airplane', 'person']\n",
    "\n",
    "catIds = coco.getCatIds(catNms)  # catIds: [1, 3, 5]\n",
    "\n",
    "dictCOCO = {k: coco.getCatIds(k)[0] for k in catNms}  # dictCOCO: {'car': 3, 'airplane': 5, 'person': 1}\n",
    "dictCOCOSorted = dict(sorted(dictCOCO.items(), key=lambda x: x[1]))  # dictCOCOSorted: {'person': 1, 'car': 3, 'airplane': 5}\n",
    "\n",
    "IdCategories = list(range(1, len(catNms)+1))  # IdCategories: [1, 2, 3]\n",
    "categories = dict(zip(list(dictCOCOSorted), IdCategories))  # categories: {'person': 1, 'car': 2, 'airplane': 3}\n",
    "\n",
    "# getCatIds return a sorted list of id.\n",
    "# For the creation of the json file in coco format, the list of ids must be successive 1, 2, 3..\n",
    "# So we reorganize the ids. In the cocoJson method we modify the values of the category_id parameter.\n",
    "\n",
    "# Get the corresponding image ids and images using loadImgs\n",
    "imgIds = coco.getImgIds(catIds=catIds)  # 根据物体类别得id号，得到训练集中对应img的id，这里一共173张\n",
    "imgOriginals = coco.loadImgs(imgIds)  # 返回list数组，数组中包含173个字典\n",
    "\n",
    "# The images are selected randomly\n",
    "imgShuffled = sample(imgOriginals, len(imgOriginals))  # 进行图片顺序打乱\n",
    "\n",
    "# Choose the number of images for the training and validation set. default 30-10\n",
    "myImagesTrain, myImagesVal = myImages(imgShuffled, 30, 10)  # imgShuffled前30个图片作为训练集，31-40作为验证集\n",
    "\n",
    "trainSet = cocoJson(myImagesTrain)\n",
    "createJson(trainSet, train=True)\n",
    "\n",
    "valSet = cocoJson(myImagesVal)\n",
    "createJson(valSet, train=False)\n",
    "\n",
    "Parallel(\n",
    "    n_jobs=-1, prefer=\"threads\")([delayed(downloadImagesToTrain)(img) for img in myImagesTrain])\n",
    "\n",
    "Parallel(\n",
    "    n_jobs=-1, prefer=\"threads\")([delayed(downloadImagesToVal)(img) for img in myImagesVal])\n",
    "\n",
    "print(\"\\nfinish.\")"
   ]
  },
  {
   "cell_type": "markdown",
   "id": "b2d22510",
   "metadata": {},
   "source": [
    "# 2）将数据集转换为mindrecord数据集"
   ]
  },
  {
   "cell_type": "code",
   "execution_count": 2,
   "id": "087a8a5b",
   "metadata": {},
   "outputs": [
    {
     "data": {
      "text/plain": [
       "True"
      ]
     },
     "execution_count": 2,
     "metadata": {},
     "output_type": "execute_result"
    }
   ],
   "source": []
  },
  {
   "cell_type": "code",
   "execution_count": null,
   "id": "0bfa1e25",
   "metadata": {},
   "outputs": [],
   "source": []
  }
 ],
 "metadata": {
  "kernelspec": {
   "display_name": "Python [conda env:mindspore_py37] *",
   "language": "python",
   "name": "conda-env-mindspore_py37-py"
  },
  "language_info": {
   "codemirror_mode": {
    "name": "ipython",
    "version": 3
   },
   "file_extension": ".py",
   "mimetype": "text/x-python",
   "name": "python",
   "nbconvert_exporter": "python",
   "pygments_lexer": "ipython3",
   "version": "3.7.5"
  }
 },
 "nbformat": 4,
 "nbformat_minor": 5
}
